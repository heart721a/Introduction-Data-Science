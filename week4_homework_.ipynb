{
  "nbformat": 4,
  "nbformat_minor": 0,
  "metadata": {
    "colab": {
      "name": "week4 homework .ipynb",
      "provenance": [],
      "authorship_tag": "ABX9TyPUxNd3cjegSMi6DMoF6Kqk",
      "include_colab_link": true
    },
    "kernelspec": {
      "name": "python3",
      "display_name": "Python 3"
    }
  },
  "cells": [
    {
      "cell_type": "markdown",
      "metadata": {
        "id": "view-in-github",
        "colab_type": "text"
      },
      "source": [
        "<a href=\"https://colab.research.google.com/github/heart721a/Introduction-Data-Science/blob/master/week4_homework_.ipynb\" target=\"_parent\"><img src=\"https://colab.research.google.com/assets/colab-badge.svg\" alt=\"Open In Colab\"/></a>"
      ]
    },
    {
      "cell_type": "code",
      "metadata": {
        "id": "K6oIjWAO_v5u",
        "colab_type": "code",
        "colab": {
          "base_uri": "https://localhost:8080/",
          "height": 34
        },
        "outputId": "66354190-07c3-4f3e-f9b4-1e315674d5d2"
      },
      "source": [
        "#work1\n",
        "\n",
        "tempc=25\n",
        "tempf=tempc*9/5+32\n",
        "print(tempf)"
      ],
      "execution_count": 2,
      "outputs": [
        {
          "output_type": "stream",
          "text": [
            "77.0\n"
          ],
          "name": "stdout"
        }
      ]
    },
    {
      "cell_type": "code",
      "metadata": {
        "id": "WMxoCyzmAM_8",
        "colab_type": "code",
        "colab": {
          "base_uri": "https://localhost:8080/",
          "height": 34
        },
        "outputId": "9e9fbc3d-145f-434c-c9be-9417cb46f107"
      },
      "source": [
        "#work1\n",
        "\n",
        "tempf=86\n",
        "tempc=(tempf-32)*5/9\n",
        "print(tempc)"
      ],
      "execution_count": 7,
      "outputs": [
        {
          "output_type": "stream",
          "text": [
            "30.0\n"
          ],
          "name": "stdout"
        }
      ]
    },
    {
      "cell_type": "code",
      "metadata": {
        "id": "qBWv_05FA9TE",
        "colab_type": "code",
        "colab": {
          "base_uri": "https://localhost:8080/",
          "height": 51
        },
        "outputId": "99fcbb7d-31a9-4c0c-eb71-de163632afc0"
      },
      "source": [
        "#work2\n",
        "\n",
        "shaq_hei=216\n",
        "shaq_height=float(int(shaq_hei)/100)\n",
        "shaq_weight=147\n",
        "\n",
        "\n",
        "print(shaq_height, type(shaq_height))\n",
        "print(shaq_weight, type(shaq_weight))\n"
      ],
      "execution_count": 17,
      "outputs": [
        {
          "output_type": "stream",
          "text": [
            "2.16 <class 'float'>\n",
            "147 <class 'int'>\n"
          ],
          "name": "stdout"
        }
      ]
    },
    {
      "cell_type": "code",
      "metadata": {
        "id": "JuElRrenBrPB",
        "colab_type": "code",
        "colab": {
          "base_uri": "https://localhost:8080/",
          "height": 34
        },
        "outputId": "c8a94308-256e-4a5c-bf37-7a368cd86af5"
      },
      "source": [
        "#work2\n",
        "\n",
        "shaq_bmi=float(shaq_weight)/(float(shaq_height)*float(shaq_height))\n",
        "print(shaq_bmi, type(shaq_bmi))"
      ],
      "execution_count": 18,
      "outputs": [
        {
          "output_type": "stream",
          "text": [
            "31.507201646090532 <class 'float'>\n"
          ],
          "name": "stdout"
        }
      ]
    },
    {
      "cell_type": "code",
      "metadata": {
        "id": "9GqgRe0XEM5t",
        "colab_type": "code",
        "colab": {
          "base_uri": "https://localhost:8080/",
          "height": 34
        },
        "outputId": "11c88a6c-5670-48c0-a2b4-e53f415ab188"
      },
      "source": [
        "#work3\n",
        "\n",
        "ross_said='''Let's put aside the fact that you \"accidentally\" pick up my grandmother's ring.'''\n",
        "\n",
        "print(ross_said)"
      ],
      "execution_count": 27,
      "outputs": [
        {
          "output_type": "stream",
          "text": [
            "Let's put aside the fact that you \"accidentally\" pick up my grandmother's ring.\n"
          ],
          "name": "stdout"
        }
      ]
    },
    {
      "cell_type": "code",
      "metadata": {
        "id": "nDBTaNU8HQbK",
        "colab_type": "code",
        "colab": {
          "base_uri": "https://localhost:8080/",
          "height": 68
        },
        "outputId": "6d3fa6d3-b2ea-421a-c74f-eb10c1811827"
      },
      "source": [
        "#work4\n",
        "\n",
        "space=input(\"your location is \")\n",
        "weather=input(\"How is weather here?\")\n",
        "\n",
        "print(\"我在\", space, \"天氣\", weather)"
      ],
      "execution_count": 29,
      "outputs": [
        {
          "output_type": "stream",
          "text": [
            "your location is taipei\n",
            "How is weather here?sunny\n",
            "我在 taipei 天氣 sunny\n"
          ],
          "name": "stdout"
        }
      ]
    },
    {
      "cell_type": "code",
      "metadata": {
        "id": "YORNh3eJIJ-P",
        "colab_type": "code",
        "colab": {
          "base_uri": "https://localhost:8080/",
          "height": 102
        },
        "outputId": "c4e02f42-ce8e-45df-8257-5c0a77d1e428"
      },
      "source": [
        "#work5\n",
        "\n",
        "player_name=input(\"name:\")\n",
        "player_height=float(input(\"height:\"))\n",
        "player_weight=float(input(\"weight:\"))\n",
        "\n",
        "player_bmi=player_weight/(player_height*player_height)\n",
        "print(\"player is\", player_name, \"and bmi is {:.2f}\".format(player_bmi))\n",
        "print(\"是否過重\", player_bmi > 30)\n",
        "\n",
        "\n",
        "\n",
        "\n"
      ],
      "execution_count": 49,
      "outputs": [
        {
          "output_type": "stream",
          "text": [
            "name:jordan\n",
            "height:1.98\n",
            "weight:102\n",
            "player is jordan and bmi is 26.02\n",
            "是否過重 False\n"
          ],
          "name": "stdout"
        }
      ]
    },
    {
      "cell_type": "code",
      "metadata": {
        "id": "fVzsrnZEJBn1",
        "colab_type": "code",
        "colab": {
          "base_uri": "https://localhost:8080/",
          "height": 34
        },
        "outputId": "7b3d56c9-956d-49ae-ce0e-8ff9faa594bc"
      },
      "source": [
        "#practice\n",
        "\n",
        "pi=3.1415926\n",
        "print(\"{:.0f}\".format(pi))"
      ],
      "execution_count": 30,
      "outputs": [
        {
          "output_type": "stream",
          "text": [
            "3\n"
          ],
          "name": "stdout"
        }
      ]
    },
    {
      "cell_type": "code",
      "metadata": {
        "id": "IZBMn85LDjCH",
        "colab_type": "code",
        "colab": {
          "base_uri": "https://localhost:8080/",
          "height": 34
        },
        "outputId": "6b613ba2-437d-4ff5-b3ee-d293bfd13fb3"
      },
      "source": [
        "#practice\n",
        "hours=4\n",
        "mins=12\n",
        "mins=mins+hours*60\n",
        "\n",
        "print(mins)"
      ],
      "execution_count": 19,
      "outputs": [
        {
          "output_type": "stream",
          "text": [
            "252\n"
          ],
          "name": "stdout"
        }
      ]
    },
    {
      "cell_type": "code",
      "metadata": {
        "id": "wV6QCDI-DzZB",
        "colab_type": "code",
        "colab": {
          "base_uri": "https://localhost:8080/",
          "height": 68
        },
        "outputId": "e1e1bb91-3860-4e2f-daeb-4b1ab3e0093a"
      },
      "source": [
        "#practice\n",
        "hours=int(input(\"your hours:\"))\n",
        "mins=int(input(\"your mins:\"))\n",
        "mins+=hours*60\n",
        "\n",
        "print(\"total mins is\", mins)"
      ],
      "execution_count": 24,
      "outputs": [
        {
          "output_type": "stream",
          "text": [
            "your hours:2\n",
            "your mins:23\n",
            "total mins is 143\n"
          ],
          "name": "stdout"
        }
      ]
    },
    {
      "cell_type": "code",
      "metadata": {
        "id": "3Q92DgY1Gb2P",
        "colab_type": "code",
        "colab": {}
      },
      "source": [
        ""
      ],
      "execution_count": 0,
      "outputs": []
    }
  ]
}