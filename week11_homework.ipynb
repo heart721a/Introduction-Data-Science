{
  "nbformat": 4,
  "nbformat_minor": 0,
  "metadata": {
    "colab": {
      "name": "week11 homework.ipynb",
      "provenance": [],
      "collapsed_sections": [],
      "authorship_tag": "ABX9TyO0dATzngr/Vd9OpmQhEVYj",
      "include_colab_link": true
    },
    "kernelspec": {
      "name": "python3",
      "display_name": "Python 3"
    }
  },
  "cells": [
    {
      "cell_type": "markdown",
      "metadata": {
        "id": "view-in-github",
        "colab_type": "text"
      },
      "source": [
        "<a href=\"https://colab.research.google.com/github/heart721a/Introduction-Data-Science/blob/master/week11_homework.ipynb\" target=\"_parent\"><img src=\"https://colab.research.google.com/assets/colab-badge.svg\" alt=\"Open In Colab\"/></a>"
      ]
    },
    {
      "cell_type": "markdown",
      "metadata": {
        "id": "V13iXBYZ-EhU",
        "colab_type": "text"
      },
      "source": [
        "作業：印出 6 個英雄的暱稱與角色名"
      ]
    },
    {
      "cell_type": "code",
      "metadata": {
        "id": "L6RXVmUx-HYz",
        "colab_type": "code",
        "outputId": "6562c5df-a913-4cd5-8588-3656f6e1f2e1",
        "colab": {
          "base_uri": "https://localhost:8080/",
          "height": 119
        }
      },
      "source": [
        "avengers_endgame = {\n",
        "    \"rating\": 8.8,\n",
        "    \"genre\": [\"Action\", \"Adventure\", \"Sci-Fi\"],\n",
        "    \"heroes\": {\n",
        "        \"Iron Man\": \"Tony Stark\",\n",
        "        \"Captain America\": \"Steve Rogers\",\n",
        "        \"Hulk\": \"Bruce Banner\",\n",
        "        \"Thor\": \"Thor\",\n",
        "        \"Black Widow\": \"Natasha Romanoff\",\n",
        "        \"Hawkeye\": \"Clint Barton\"\n",
        "    }\n",
        "}\n",
        "\n",
        "heroes_dict = avengers_endgame['heroes']\n",
        "heroes_dict_len = len(heroes_dict)\n",
        "heroes_dict_keys = list(heroes_dict.keys())\n",
        "i = 0\n",
        "while i < heroes_dict_len:\n",
        "    dict_key = heroes_dict_keys[i]\n",
        "    print(heroes_dict[dict_key])\n",
        "    i += 1"
      ],
      "execution_count": 0,
      "outputs": [
        {
          "output_type": "stream",
          "text": [
            "Tony Stark\n",
            "Steve Rogers\n",
            "Bruce Banner\n",
            "Thor\n",
            "Natasha Romanoff\n",
            "Clint Barton\n"
          ],
          "name": "stdout"
        }
      ]
    },
    {
      "cell_type": "code",
      "metadata": {
        "id": "XxyftLZw-XUm",
        "colab_type": "code",
        "colab": {}
      },
      "source": [
        ""
      ],
      "execution_count": 0,
      "outputs": []
    }
  ]
}