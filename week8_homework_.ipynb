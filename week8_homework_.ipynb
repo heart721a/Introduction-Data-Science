{
  "nbformat": 4,
  "nbformat_minor": 0,
  "metadata": {
    "colab": {
      "name": "week8 homework .ipynb",
      "provenance": [],
      "collapsed_sections": [],
      "authorship_tag": "ABX9TyN6QFDpvVMoaaL4RqjkUYCq",
      "include_colab_link": true
    },
    "kernelspec": {
      "name": "python3",
      "display_name": "Python 3"
    }
  },
  "cells": [
    {
      "cell_type": "markdown",
      "metadata": {
        "id": "view-in-github",
        "colab_type": "text"
      },
      "source": [
        "<a href=\"https://colab.research.google.com/github/heart721a/Introduction-Data-Science/blob/master/week8_homework_.ipynb\" target=\"_parent\"><img src=\"https://colab.research.google.com/assets/colab-badge.svg\" alt=\"Open In Colab\"/></a>"
      ]
    },
    {
      "cell_type": "markdown",
      "metadata": {
        "id": "0qooB9aw1IuA",
        "colab_type": "text"
      },
      "source": [
        "隨堂練習：印出介於 x 到 y 之間的奇數（包含 x 與 y 假如它們是奇數）"
      ]
    },
    {
      "cell_type": "code",
      "metadata": {
        "id": "lNMoflzi1LMo",
        "colab_type": "code",
        "outputId": "ba0c82be-914b-4443-b023-20e037cdff84",
        "colab": {
          "base_uri": "https://localhost:8080/",
          "height": 51
        }
      },
      "source": [
        "x = int(input(\"請輸入起始的正整數：\"))\n",
        "y = int(input(\"請輸入終止的正整數：\"))"
      ],
      "execution_count": 0,
      "outputs": [
        {
          "output_type": "stream",
          "text": [
            "請輸入起始的正整數：5\n",
            "請輸入終止的正整數：10\n"
          ],
          "name": "stdout"
        }
      ]
    },
    {
      "cell_type": "markdown",
      "metadata": {
        "id": "fCIchx7v1muy",
        "colab_type": "text"
      },
      "source": [
        "承接上題，介於 x 到 y 之間的奇數有幾個（包含 x 與 y 假如它們是奇數）"
      ]
    },
    {
      "cell_type": "code",
      "metadata": {
        "id": "dEYPFYY21oVM",
        "colab_type": "code",
        "outputId": "f78cea6c-714b-4cc0-d9e6-e7545765552a",
        "colab": {
          "base_uri": "https://localhost:8080/",
          "height": 34
        }
      },
      "source": [
        "num = int(x)\n",
        "num_cnt = 0\n",
        "while num < int(y): \n",
        "    num_cnt += 1\n",
        "    num += 2\n",
        "print(num_cnt)"
      ],
      "execution_count": 0,
      "outputs": [
        {
          "output_type": "stream",
          "text": [
            "3\n"
          ],
          "name": "stdout"
        }
      ]
    },
    {
      "cell_type": "code",
      "metadata": {
        "id": "MmxHcMWE2CXs",
        "colab_type": "code",
        "outputId": "8c7cd979-42a3-4c19-f360-d6ffed30dc83",
        "colab": {
          "base_uri": "https://localhost:8080/",
          "height": 34
        }
      },
      "source": [
        "num = int(x)\n",
        "num_sum = 0\n",
        "while num < int(y): \n",
        "    num_sum += num\n",
        "    num += 2\n",
        "print(num_sum)"
      ],
      "execution_count": 0,
      "outputs": [
        {
          "output_type": "stream",
          "text": [
            "21\n"
          ],
          "name": "stdout"
        }
      ]
    },
    {
      "cell_type": "code",
      "metadata": {
        "id": "EUStqqfA4gbK",
        "colab_type": "code",
        "colab": {}
      },
      "source": [
        ""
      ],
      "execution_count": 0,
      "outputs": []
    }
  ]
}