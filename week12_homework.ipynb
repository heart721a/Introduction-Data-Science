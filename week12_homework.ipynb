{
  "nbformat": 4,
  "nbformat_minor": 0,
  "metadata": {
    "colab": {
      "name": "week12 homework.ipynb",
      "provenance": [],
      "collapsed_sections": [],
      "authorship_tag": "ABX9TyPQfS+efvZSgT5e02Un8f9e",
      "include_colab_link": true
    },
    "kernelspec": {
      "name": "python3",
      "display_name": "Python 3"
    }
  },
  "cells": [
    {
      "cell_type": "markdown",
      "metadata": {
        "id": "view-in-github",
        "colab_type": "text"
      },
      "source": [
        "<a href=\"https://colab.research.google.com/github/heart721a/Introduction-Data-Science/blob/master/week12_homework.ipynb\" target=\"_parent\"><img src=\"https://colab.research.google.com/assets/colab-badge.svg\" alt=\"Open In Colab\"/></a>"
      ]
    },
    {
      "cell_type": "markdown",
      "metadata": {
        "id": "O_aFTX-exi0i",
        "colab_type": "text"
      },
      "source": [
        "迴圈 \n",
        "隨堂練習：印出介於 x 到 y 之間的奇數（包含 x 與 y 假如它們是奇數）"
      ]
    },
    {
      "cell_type": "code",
      "metadata": {
        "id": "xl3A-Ox6bnAX",
        "colab_type": "code",
        "colab": {
          "base_uri": "https://localhost:8080/",
          "height": 153
        },
        "outputId": "efdca7f4-78f1-4d47-d83c-b6a499892d23"
      },
      "source": [
        "x = int(input(\"請輸入起始的正整數：\"))\n",
        "y = int(input(\"請輸入終止的正整數：\"))\n",
        "for i in range(x, y + 1):\n",
        "    if i % 2 == 1:\n",
        "        print(i)"
      ],
      "execution_count": 6,
      "outputs": [
        {
          "output_type": "stream",
          "text": [
            "請輸入起始的正整數：55\n",
            "請輸入終止的正整數：66\n",
            "55\n",
            "57\n",
            "59\n",
            "61\n",
            "63\n",
            "65\n"
          ],
          "name": "stdout"
        }
      ]
    },
    {
      "cell_type": "markdown",
      "metadata": {
        "id": "jjfSIgCyd7wo",
        "colab_type": "text"
      },
      "source": [
        "承接上題，介於 x 到 y 之間的奇數有幾個（包含 x 與 y 假如它們是奇數"
      ]
    },
    {
      "cell_type": "code",
      "metadata": {
        "id": "TGUCmFaMd9Kg",
        "colab_type": "code",
        "colab": {
          "base_uri": "https://localhost:8080/",
          "height": 68
        },
        "outputId": "f6a141a3-7e5d-4637-defd-bf0ae7fbf031"
      },
      "source": [
        "x = int(input(\"請輸入起始的正整數：\"))\n",
        "y = int(input(\"請輸入終止的正整數：\"))\n",
        "ans_cnt = 0\n",
        "for i in range(x, y + 1):\n",
        "    if i % 2 == 1:\n",
        "      ans_cnt += 1\n",
        "print(ans_cnt)"
      ],
      "execution_count": 10,
      "outputs": [
        {
          "output_type": "stream",
          "text": [
            "請輸入起始的正整數：55\n",
            "請輸入終止的正整數：66\n",
            "6\n"
          ],
          "name": "stdout"
        }
      ]
    },
    {
      "cell_type": "markdown",
      "metadata": {
        "id": "SS719nE5efzj",
        "colab_type": "text"
      },
      "source": [
        "承接上題，介於 x 到 y 之間的奇數加總為何（包含 x 與 y 假如它們是奇數）\n"
      ]
    },
    {
      "cell_type": "code",
      "metadata": {
        "id": "Kareh67kehlK",
        "colab_type": "code",
        "colab": {
          "base_uri": "https://localhost:8080/",
          "height": 68
        },
        "outputId": "52422def-98b7-4add-8a84-175ad04f6714"
      },
      "source": [
        "x = int(input(\"請輸入起始的正整數：\"))\n",
        "y = int(input(\"請輸入終止的正整數：\"))\n",
        "ans_sum = 0\n",
        "for i in range(x, y + 1):\n",
        "    if i % 2 == 1:\n",
        "      ans_sum += i\n",
        "print(ans_sum)"
      ],
      "execution_count": 12,
      "outputs": [
        {
          "output_type": "stream",
          "text": [
            "請輸入起始的正整數：55\n",
            "請輸入終止的正整數：66\n",
            "360\n"
          ],
          "name": "stdout"
        }
      ]
    },
    {
      "cell_type": "markdown",
      "metadata": {
        "id": "SUZu_6oee7pc",
        "colab_type": "text"
      },
      "source": [
        "承接上題，介於 x 到 y 之間的奇數為何（包含 x 與 y 假如它們是奇數）"
      ]
    },
    {
      "cell_type": "code",
      "metadata": {
        "id": "gxPP6eU7fBHF",
        "colab_type": "code",
        "colab": {
          "base_uri": "https://localhost:8080/",
          "height": 68
        },
        "outputId": "e0b9b8c8-92f4-482a-d840-4fd68ed8958f"
      },
      "source": [
        "x = int(input(\"請輸入起始的正整數：\"))\n",
        "y = int(input(\"請輸入終止的正整數：\"))\n",
        "ans = []\n",
        "for i in range(x, y + 1):\n",
        "    if i % 2:\n",
        "      ans.append(i)\n",
        "print(ans)\n"
      ],
      "execution_count": 13,
      "outputs": [
        {
          "output_type": "stream",
          "text": [
            "請輸入起始的正整數：55\n",
            "請輸入終止的正整數：66\n",
            "[55, 57, 59, 61, 63, 65]\n"
          ],
          "name": "stdout"
        }
      ]
    }
  ]
}