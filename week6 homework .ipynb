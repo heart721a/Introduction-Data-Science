{
  "nbformat": 4,
  "nbformat_minor": 0,
  "metadata": {
    "colab": {
      "name": "week6 a106260020.ipynb",
      "provenance": [],
      "authorship_tag": "ABX9TyO5ZUBZP76Tan0NK6WJBoCT",
      "include_colab_link": true
    },
    "kernelspec": {
      "name": "python3",
      "display_name": "Python 3"
    }
  },
  "cells": [
    {
      "cell_type": "markdown",
      "metadata": {
        "id": "view-in-github",
        "colab_type": "text"
      },
      "source": [
        "<a href=\"https://colab.research.google.com/github/heart721a/Introduction-Data-Science/blob/master/week6_a106260020.ipynb\" target=\"_parent\"><img src=\"https://colab.research.google.com/assets/colab-badge.svg\" alt=\"Open In Colab\"/></a>"
      ]
    },
    {
      "cell_type": "code",
      "metadata": {
        "id": "QaUTdUmvFQY0",
        "colab_type": "code",
        "outputId": "2e641f33-ce1d-4217-de49-3c07f0adaed9",
        "colab": {
          "base_uri": "https://localhost:8080/",
          "height": 85
        }
      },
      "source": [
        "#work1\n",
        "\n",
        "salary=input(\"your salary is \")\n",
        "print(type(salary))\n",
        "deposit=input(\"your deposit is \")\n",
        "print(\"credit card ans:\", int(salary) >=40000 or int(deposit)>=500000)\n"
      ],
      "execution_count": 1,
      "outputs": [
        {
          "output_type": "stream",
          "text": [
            "your salary is 34000\n",
            "<class 'str'>\n",
            "your deposit is 600000\n",
            "credit card ans: True\n"
          ],
          "name": "stdout"
        }
      ]
    },
    {
      "cell_type": "code",
      "metadata": {
        "id": "Qp0dS8FeNyP-",
        "colab_type": "code",
        "outputId": "1410e5b9-999e-416a-812f-c89ad0259e67",
        "colab": {
          "base_uri": "https://localhost:8080/",
          "height": 51
        }
      },
      "source": [
        "#work2\n",
        "\n",
        "num=input(\"your number:\")\n",
        "ans=int(num) % 2\n",
        "print(ans == 1)\n",
        "\n",
        "#餘數=1時，答案是true，所以奇數會是true\n",
        "#雙數就是false"
      ],
      "execution_count": 0,
      "outputs": [
        {
          "output_type": "stream",
          "text": [
            "your number:10\n",
            "False\n"
          ],
          "name": "stdout"
        }
      ]
    },
    {
      "cell_type": "code",
      "metadata": {
        "id": "9WahHI40Op_Z",
        "colab_type": "code",
        "colab": {}
      },
      "source": [
        "#work3\n",
        "\n"
      ],
      "execution_count": 0,
      "outputs": []
    }
  ]
}
