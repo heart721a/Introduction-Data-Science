{
  "nbformat": 4,
  "nbformat_minor": 0,
  "metadata": {
    "colab": {
      "name": "week7 homework.ipynb",
      "provenance": [],
      "collapsed_sections": [],
      "authorship_tag": "ABX9TyOiv5sr+RusfRfW5BhjCkTk",
      "include_colab_link": true
    },
    "kernelspec": {
      "name": "python3",
      "display_name": "Python 3"
    }
  },
  "cells": [
    {
      "cell_type": "markdown",
      "metadata": {
        "id": "view-in-github",
        "colab_type": "text"
      },
      "source": [
        "<a href=\"https://colab.research.google.com/github/heart721a/Introduction-Data-Science/blob/master/week7_homework.ipynb\" target=\"_parent\"><img src=\"https://colab.research.google.com/assets/colab-badge.svg\" alt=\"Open In Colab\"/></a>"
      ]
    },
    {
      "cell_type": "markdown",
      "metadata": {
        "id": "movJ7JSZwLns",
        "colab_type": "text"
      },
      "source": [
        "以 input() 函數請使用者輸入一個正整數\n",
        "如果是 3 的倍數印出 \"Fizz\"\n",
        "如果是 5 的倍數印出 \"Buzz\"\n",
        "如果是 15 的倍數印出 \"Fizz Buzz\"\n",
        "其他情況印出該正整數即可"
      ]
    },
    {
      "cell_type": "code",
      "metadata": {
        "id": "PIJ0a412wNVk",
        "colab_type": "code",
        "outputId": "13cd40a4-70fd-4b19-dcbc-d6f2e51f412c",
        "colab": {
          "base_uri": "https://localhost:8080/",
          "height": 51
        }
      },
      "source": [
        "x = int(input(\"請輸入一個正整數:\"))\n",
        "\n",
        "if x%15 == 0:\n",
        "  print(\"Fizz Buzz\")\n",
        "elif x%5 == 0:\n",
        "  print(\"Buzz\")\n",
        "elif x%3 == 0:\n",
        "  print(\"Fizz\")\n",
        "else:\n",
        "  print(x)"
      ],
      "execution_count": 0,
      "outputs": [
        {
          "output_type": "stream",
          "text": [
            "請輸入一個正整數:3\n",
            "Fizz\n"
          ],
          "name": "stdout"
        }
      ]
    },
    {
      "cell_type": "code",
      "metadata": {
        "id": "_qaA0Ce_0tmN",
        "colab_type": "code",
        "outputId": "fcb8d0f8-5435-499a-c17c-d5478787fd0b",
        "colab": {
          "base_uri": "https://localhost:8080/",
          "height": 51
        }
      },
      "source": [
        "x = int(input(\"請輸入一個正整數:\"))\n",
        "\n",
        "if x%15 == 0:\n",
        "  print(\"Fizz Buzz\")\n",
        "elif x%5 == 0:\n",
        "  print(\"Buzz\")\n",
        "elif x%3 == 0:\n",
        "  print(\"Fizz\")\n",
        "else:\n",
        "  print(x)"
      ],
      "execution_count": 0,
      "outputs": [
        {
          "output_type": "stream",
          "text": [
            "請輸入一個正整數:5\n",
            "Buzz\n"
          ],
          "name": "stdout"
        }
      ]
    },
    {
      "cell_type": "code",
      "metadata": {
        "id": "01H0BKwPz2W9",
        "colab_type": "code",
        "outputId": "96ccad83-6c8a-41ae-bb66-bb097c1ec8a8",
        "colab": {
          "base_uri": "https://localhost:8080/",
          "height": 51
        }
      },
      "source": [
        "x = int(input(\"請輸入一個正整數:\"))\n",
        "\n",
        "if x%15 == 0:\n",
        "  print(\"Fizz Buzz\")\n",
        "elif x%5 == 0:\n",
        "  print(\"Buzz\")\n",
        "elif x%3 == 0:\n",
        "  print(\"Fizz\")\n",
        "else:\n",
        "  print(x)"
      ],
      "execution_count": 0,
      "outputs": [
        {
          "output_type": "stream",
          "text": [
            "請輸入一個正整數:15\n",
            "Fizz Buzz\n"
          ],
          "name": "stdout"
        }
      ]
    },
    {
      "cell_type": "code",
      "metadata": {
        "id": "7DGEXNuC0yYA",
        "colab_type": "code",
        "outputId": "01a21295-5ad2-4c05-e332-3822f91ab1dd",
        "colab": {
          "base_uri": "https://localhost:8080/",
          "height": 51
        }
      },
      "source": [
        "x = int(input(\"請輸入一個正整數:\"))\n",
        "\n",
        "if x%15 == 0:\n",
        "  print(\"Fizz Buzz\")\n",
        "elif x%5 == 0:\n",
        "  print(\"Buzz\")\n",
        "elif x%3 == 0:\n",
        "  print(\"Fizz\")\n",
        "else:\n",
        "  print(x)"
      ],
      "execution_count": 0,
      "outputs": [
        {
          "output_type": "stream",
          "text": [
            "請輸入一個正整數:16\n",
            "16\n"
          ],
          "name": "stdout"
        }
      ]
    }
  ]
}