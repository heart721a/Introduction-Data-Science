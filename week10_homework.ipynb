{
  "nbformat": 4,
  "nbformat_minor": 0,
  "metadata": {
    "colab": {
      "name": "week10 homework.ipynb",
      "provenance": [],
      "collapsed_sections": [],
      "authorship_tag": "ABX9TyOkXBW1B32M1+Wq3qYW/+0s",
      "include_colab_link": true
    },
    "kernelspec": {
      "name": "python3",
      "display_name": "Python 3"
    }
  },
  "cells": [
    {
      "cell_type": "markdown",
      "metadata": {
        "id": "view-in-github",
        "colab_type": "text"
      },
      "source": [
        "<a href=\"https://colab.research.google.com/github/heart721a/Introduction-Data-Science/blob/master/week10_homework.ipynb\" target=\"_parent\"><img src=\"https://colab.research.google.com/assets/colab-badge.svg\" alt=\"Open In Colab\"/></a>"
      ]
    },
    {
      "cell_type": "markdown",
      "metadata": {
        "id": "41MHVGg84u57",
        "colab_type": "text"
      },
      "source": [
        "參考 cast 與 https://www.imdb.com/title/tt4154796 將飾演奇異博士（Doctor Strange）的演員用 indexing 方式選出來"
      ]
    },
    {
      "cell_type": "code",
      "metadata": {
        "id": "xD2WNf9I5BZO",
        "colab_type": "code",
        "outputId": "c57d26b3-716f-41eb-a52a-87e23511b9ab",
        "colab": {
          "base_uri": "https://localhost:8080/",
          "height": 54
        }
      },
      "source": [
        "actor_DoctorStrange = [\"Benedict Cumberbatch\", \"Chiwetel Ejiofor\", \"Rachel McAdams\", \"Benedict Wong\", \"Mads Mikkelsen\", \"Tilda Swinton\", \"Michael Stuhlbarg\", \"Benjamin Bratt\", \"Scott Adkins\", \"Zara Phythian\", \"Alaa Safi\", \"Katrina Durden\", \"Topo Wresniwiro\", \"Linda Louise Duan\"]\n",
        "print(actor_DoctorStrange)"
      ],
      "execution_count": 0,
      "outputs": [
        {
          "output_type": "stream",
          "text": [
            "['Benedict Cumberbatch', 'Chiwetel Ejiofor', 'Rachel McAdams', 'Benedict Wong', 'Mads Mikkelsen', 'Tilda Swinton', 'Michael Stuhlbarg', 'Benjamin Bratt', 'Scott Adkins', 'Zara Phythian', 'Alaa Safi', 'Katrina Durden', 'Topo Wresniwiro', 'Linda Louise Duan']\n"
          ],
          "name": "stdout"
        }
      ]
    },
    {
      "cell_type": "code",
      "metadata": {
        "id": "1FRmSrek7kX3",
        "colab_type": "code",
        "outputId": "6a181456-54cb-403f-81bb-6e9dae2237c3",
        "colab": {
          "base_uri": "https://localhost:8080/",
          "height": 68
        }
      },
      "source": [
        "print(actor_DoctorStrange[0])\n",
        "print(actor_DoctorStrange[1])\n",
        "print(actor_DoctorStrange[2])"
      ],
      "execution_count": 0,
      "outputs": [
        {
          "output_type": "stream",
          "text": [
            "Benedict Cumberbatch\n",
            "Chiwetel Ejiofor\n",
            "Rachel McAdams\n"
          ],
          "name": "stdout"
        }
      ]
    },
    {
      "cell_type": "markdown",
      "metadata": {
        "id": "-dv2-HFU8Dq5",
        "colab_type": "text"
      },
      "source": [
        "參考 cast 與 https://www.imdb.com/title/tt4154796 將第一集復仇者聯盟的六位英雄選出來"
      ]
    },
    {
      "cell_type": "code",
      "metadata": {
        "id": "2qiZvkA88Fh1",
        "colab_type": "code",
        "outputId": "49361b53-fdd8-4852-e054-c6b88b8779a5",
        "colab": {
          "base_uri": "https://localhost:8080/",
          "height": 34
        }
      },
      "source": [
        "actor_avenger = [\"Robert Downey Jr.\", \"Chris Evans\", \"Mark Ruffalo\", \"Chris Hemsworth\", \"Scarlett Johansson\", \"Jeremy Renner\", \"Don Cheadle\", \"Paul Rudd\", \"Benedict Cumberbatch\", \"Chadwick Boseman\", \"Brie Larson\", \"Tom Holland\", \"Karen Gillan\", \"Zoe Saldana\", \"Evangeline Lilly\"]\n",
        "print(actor_avenger[:6])"
      ],
      "execution_count": 0,
      "outputs": [
        {
          "output_type": "stream",
          "text": [
            "['Robert Downey Jr.', 'Chris Evans', 'Mark Ruffalo', 'Chris Hemsworth', 'Scarlett Johansson', 'Jeremy Renner']\n"
          ],
          "name": "stdout"
        }
      ]
    },
    {
      "cell_type": "code",
      "metadata": {
        "id": "Tb81-5aI9UKm",
        "colab_type": "code",
        "colab": {}
      },
      "source": [
        ""
      ],
      "execution_count": 0,
      "outputs": []
    }
  ]
}