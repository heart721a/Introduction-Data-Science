{
  "nbformat": 4,
  "nbformat_minor": 0,
  "metadata": {
    "colab": {
      "name": "week13 homework.ipynb",
      "provenance": [],
      "collapsed_sections": [],
      "authorship_tag": "ABX9TyPbjMFFINzaSLKygaQEoiW7",
      "include_colab_link": true
    },
    "kernelspec": {
      "name": "python3",
      "display_name": "Python 3"
    }
  },
  "cells": [
    {
      "cell_type": "markdown",
      "metadata": {
        "id": "view-in-github",
        "colab_type": "text"
      },
      "source": [
        "<a href=\"https://colab.research.google.com/github/heart721a/Introduction-Data-Science/blob/master/week13_homework.ipynb\" target=\"_parent\"><img src=\"https://colab.research.google.com/assets/colab-badge.svg\" alt=\"Open In Colab\"/></a>"
      ]
    },
    {
      "cell_type": "code",
      "metadata": {
        "id": "ekzZ8mLTS2YM",
        "colab_type": "code",
        "colab": {
          "base_uri": "https://localhost:8080/",
          "height": 51
        },
        "outputId": "afbfff7c-8357-4aa3-948a-659d6458abf2"
      },
      "source": [
        "def is_prime(x):\n",
        "    divisor_cnt, i = 0, 1\n",
        "    while i <= x:\n",
        "        if x % i == 0:\n",
        "            divisor_cnt += 1\n",
        "        if divisor_cnt > 2:\n",
        "            break\n",
        "        i += 1\n",
        "    return divisor_cnt == 2\n",
        "\n",
        "print(is_prime(87))\n",
        "print(is_prime(89))"
      ],
      "execution_count": 1,
      "outputs": [
        {
          "output_type": "stream",
          "text": [
            "False\n",
            "True\n"
          ],
          "name": "stdout"
        }
      ]
    },
    {
      "cell_type": "code",
      "metadata": {
        "id": "RZhl_NQKPXJz",
        "colab_type": "code",
        "colab": {}
      },
      "source": [
        ""
      ],
      "execution_count": 0,
      "outputs": []
    }
  ]
}